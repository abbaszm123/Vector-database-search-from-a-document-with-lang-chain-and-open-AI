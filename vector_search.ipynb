{
  "nbformat": 4,
  "nbformat_minor": 0,
  "metadata": {
    "colab": {
      "provenance": [],
      "authorship_tag": "ABX9TyPQHnvqUnhxxl0XTMOQJPkN",
      "include_colab_link": true
    },
    "kernelspec": {
      "name": "python3",
      "display_name": "Python 3"
    },
    "language_info": {
      "name": "python"
    }
  },
  "cells": [
    {
      "cell_type": "markdown",
      "metadata": {
        "id": "view-in-github",
        "colab_type": "text"
      },
      "source": [
        "<a href=\"https://colab.research.google.com/github/abbaszm123/Vector-database-search-from-a-document-with-lang-chain-and-open-AI/blob/main/vector_search.ipynb\" target=\"_parent\"><img src=\"https://colab.research.google.com/assets/colab-badge.svg\" alt=\"Open In Colab\"/></a>"
      ]
    },
    {
      "cell_type": "markdown",
      "source": [
        "**Intstalling lang chain**"
      ],
      "metadata": {
        "id": "2kFF3TEY9hi_"
      }
    },
    {
      "cell_type": "code",
      "source": [
        "pip install langchain\n"
      ],
      "metadata": {
        "id": "JvrK9rEZ3PZF"
      },
      "execution_count": null,
      "outputs": []
    },
    {
      "cell_type": "markdown",
      "source": [
        "**UPLOADING A FILE**"
      ],
      "metadata": {
        "id": "VBWBAgtv9xyR"
      }
    },
    {
      "cell_type": "code",
      "source": [
        "from langchain.document_loaders import UnstructuredPDFLoader, OnlinePDFLoader\n",
        "from langchain.text_splitter import RecursiveCharacterTextSplitter\n",
        "from langchain.vectorstores import Chroma\n",
        "\n"
      ],
      "metadata": {
        "id": "N6E4WhVc3fDs"
      },
      "execution_count": 10,
      "outputs": []
    },
    {
      "cell_type": "code",
      "source": [
        " pip install unstructured"
      ],
      "metadata": {
        "id": "AVbqVWI24Oxt"
      },
      "execution_count": 8,
      "outputs": []
    },
    {
      "cell_type": "code",
      "source": [
        "pip install pdfminer.six\n"
      ],
      "metadata": {
        "id": "0fd3ulyD7l7H"
      },
      "execution_count": null,
      "outputs": []
    },
    {
      "cell_type": "markdown",
      "source": [
        "***LOADING THE FILE ***"
      ],
      "metadata": {
        "id": "JsP-NQ_x98re"
      }
    },
    {
      "cell_type": "code",
      "source": [
        "with open('reactfile.txt', 'rb') as f:\n",
        "    react = f.read().decode('utf-8', errors='ignore')\n",
        "text_splitter = RecursiveCharacterTextSplitter(chunk_size=1000, chunk_overlap=0)\n",
        "texts = text_splitter.split_text(react)\n",
        "type(texts)"
      ],
      "metadata": {
        "id": "9vh6hcbw8Oz2",
        "colab": {
          "base_uri": "https://localhost:8080/"
        },
        "outputId": "b2aff13a-c017-46cc-c62d-32ffe8acdbd2"
      },
      "execution_count": 22,
      "outputs": [
        {
          "output_type": "execute_result",
          "data": {
            "text/plain": [
              "list"
            ]
          },
          "metadata": {},
          "execution_count": 22
        }
      ]
    },
    {
      "cell_type": "code",
      "source": [
        "print (f'Now you have {len(texts)} documents')"
      ],
      "metadata": {
        "id": "wdHBYCzx8QlW",
        "colab": {
          "base_uri": "https://localhost:8080/"
        },
        "outputId": "abe590a0-4317-41a3-f1fd-f5b5742ed772"
      },
      "execution_count": 13,
      "outputs": [
        {
          "output_type": "stream",
          "name": "stdout",
          "text": [
            "Now you have 1484 documents\n"
          ]
        }
      ]
    },
    {
      "cell_type": "code",
      "source": [
        "texts[0]"
      ],
      "metadata": {
        "id": "m3oOwU1Q9Ap-"
      },
      "execution_count": null,
      "outputs": []
    },
    {
      "cell_type": "code",
      "source": [
        "pip install chromadb"
      ],
      "metadata": {
        "id": "9EJn4aGI81XG"
      },
      "execution_count": null,
      "outputs": []
    },
    {
      "cell_type": "code",
      "source": [
        "pip install --upgrade langchain"
      ],
      "metadata": {
        "id": "zoAG2NAe9V1X"
      },
      "execution_count": null,
      "outputs": []
    },
    {
      "cell_type": "code",
      "source": [
        "from langchain.vectorstores import Chroma\n",
        "from langchain.embeddings.openai import OpenAIEmbeddings\n",
        "from langchain.text_splitter import CharacterTextSplitter"
      ],
      "metadata": {
        "id": "lgjNBeeYBcJN"
      },
      "execution_count": 18,
      "outputs": []
    },
    {
      "cell_type": "code",
      "source": [
        "pip install openai"
      ],
      "metadata": {
        "id": "QHV6ZXzdFFVH"
      },
      "execution_count": null,
      "outputs": []
    },
    {
      "cell_type": "code",
      "source": [
        "pip install tiktoken"
      ],
      "metadata": {
        "id": "ym4It0afHOpH"
      },
      "execution_count": null,
      "outputs": []
    },
    {
      "cell_type": "markdown",
      "source": [
        "**OPEN AI API KEY**"
      ],
      "metadata": {
        "id": "jl5YIh6qR070"
      }
    },
    {
      "cell_type": "code",
      "source": [
        "OPENAI_API_KEY = ''\n",
        "\n",
        "embeddings = OpenAIEmbeddings(openai_api_key=OPENAI_API_KEY)\n",
        "docsearch = Chroma.from_texts(texts, embeddings)\n"
      ],
      "metadata": {
        "id": "wDgM0pZqBeH-"
      },
      "execution_count": null,
      "outputs": []
    },
    {
      "cell_type": "code",
      "source": [
        "query = \"Tell me some headings discussed in the document important to learn react\"\n",
        "docs = docsearch.similarity_search(query)"
      ],
      "metadata": {
        "id": "3T9Pmc7ENWTp"
      },
      "execution_count": 27,
      "outputs": []
    },
    {
      "cell_type": "markdown",
      "source": [
        "QUERYING THROUGHT THE HELP OF VECTOR DB CHROMA THE WHOLE ROADMAP\n"
      ],
      "metadata": {
        "id": "eAFMMoTER8-S"
      }
    },
    {
      "cell_type": "code",
      "source": [
        "for i in range(4):\n",
        "  print(docs[i].page_content)"
      ],
      "metadata": {
        "colab": {
          "base_uri": "https://localhost:8080/"
        },
        "id": "ihgilW9JNq-S",
        "outputId": "ac75003f-1019-4675-a8b0-4689cbc2e480"
      },
      "execution_count": 33,
      "outputs": [
        {
          "output_type": "stream",
          "name": "stdout",
          "text": [
            "https://www.freecodecamp.org/news/react-fundamentals-for-beginners/ 3/18\r\n",
            "As ReactJS is very popular, you may find some resemblance here with\r\n",
            "many other suggested roadmaps out there. But, they aren't exactly\r\n",
            "the same.\r\n",
            "\r\n",
            "Breaking the roadmap down into\r\n",
            "phases\r\n",
            "We will break the entire roadmap into four phases. They will be:\r\n",
            "1. What to learn before React\r\n",
            "2. What to learn as a beginner to React\r\n",
            "3. How to move from beginner to intermediate React developer\r\n",
            "4. How to move from intermediate to advanced React developer\r\n",
            "\r\n",
            "What to Learn Before You Learn\r\n",
            "React\r\n",
            "ReactJS is JavaScript-based. You'll need to be familiar with a few\r\n",
            "things (other than basic JavaScript knowledge) to accelerate your\r\n",
            "React learning at full speed.\r\n",
            "\r\n",
            "🔵 Git Version Control\r\n",
            "Git is a version control tool that helps you manage your source code\r\n",
            "better. It doesn't have a direct relationship with ReactJS. But it helps if\r\n",
            "you learn its basic uses so you can take advantage of the development\r\n",
            "ecosystem.\n",
            "In this phase, you will deal with a few expert-level topics. You need to\r\n",
            "know these concepts only when you're working on more extensive\r\n",
            "application development using ReactJS.\r\n",
            "Note that you can learn each of these concepts whenever you're\r\n",
            "ready. Also, you don't have to learn them all.\r\n",
            "🟢 Lazy Loading in React\r\n",
            "ReactJS supports code splitting. It is a way to lazy load what you need\r\n",
            "by the current user. It also avoids producing a large build bundle. The\r\n",
            "dynamic import feature is the best way to include code-splitting in a\r\n",
            "React app.\r\n",
            "Here's a basic tutorial on lazy loading in React to get you started.\r\n",
            "🟢 Portals in React\r\n",
            "You may have to use Portals when dealing with modals, dialogs, or\r\n",
            "tooltips with better event handling. It is supported out-of-the-box in\r\n",
            "ReactJS.\r\n",
            "🟢 State Management in React\r\n",
            "In a larger application, you must share information between\r\n",
            "components. At times, the default support of Props and Context may\r\n",
            "not suffice.\n",
            "Learn to code — free 3,000-hour curriculum\r\n",
            "Forum Donate\r\n",
            "4/30/23, 3:56 AM Learn ReactJS – Complete Roadmap\r\n",
            "https://www.freecodecamp.org/news/react-fundamentals-for-beginners/ 11/18\r\n",
            "Sass or other CSS-driven component libraries like TailwindCSS ,\r\n",
            "ChakraUI , react-bootstrap , or MUI . The choice is entirely yours.\r\n",
            "As an example, here's a tutorial about styling your React apps with\r\n",
            "TailwindCSS.\r\n",
            "🟣 Form Handling in React\r\n",
            "Handling forms is an essential requirement in web applications. You\r\n",
            "need to understand how to handle form elements in the ReactJS way.\r\n",
            "For example, you can use the react-hook-form library to build forms\r\n",
            "easily. Here are a couple tutorials to get you started with react-hook\u0002form.\r\n",
            "🟣 Data Handling in React\r\n",
            "This is a crucial part of application development. You need to learn\r\n",
            "how to use the fetch API or libraries like node-fetch and axios to\r\n",
            "interact with APIs and handle data in your component.\r\n",
            "Here's a cheatsheet to get you started with the Fetch API, and here's\n",
            "4/30/23, 3:56 AM Learn ReactJS – Complete Roadmap\r\n",
            "https://www.freecodecamp.org/news/react-fundamentals-for-beginners/ 6/18\r\n",
            "Template Literals\r\n",
            "Functions & Arrow Functions\r\n",
            "Object Destructuring\r\n",
            "Spread and Rest Operators\r\n",
            "Module Import and Export\r\n",
            "A bit of Promises and Async Programming\r\n",
            "freeCodeCamp also has a JavaScript certification if you want to check\r\n",
            "that out.\r\n",
            "🔵 NPM Ecosystem\r\n",
            "You should be aware of how to use npm , yarn , and node version\r\n",
            "manager (nvm) to help you run and test a ReactJs app locally.\r\n",
            "Knowing how they work at a high level is always helpful to debug your\r\n",
            "environment in case you run into issues. Here is a resource to help you\r\n",
            "get started with all these quickly: Node.js install, npm, yarn, nvm.\r\n",
            "🔵 How to Deploy, Host, and Make your\r\n",
            "App Public:\r\n",
            "It won't be much fun if you have created something cool with ReactJS\r\n",
            "and cannot showcase it to the world. So, you should know how to\r\n",
            "deploy the app and make it available for public access.\n"
          ]
        }
      ]
    }
  ]
}